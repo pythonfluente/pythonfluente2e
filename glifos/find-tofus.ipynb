{
 "cells": [
  {
   "cell_type": "code",
   "execution_count": 3,
   "id": "9fd118ac-e880-43ab-98c8-89ca369530e1",
   "metadata": {},
   "outputs": [
    {
     "name": "stdout",
     "output_type": "stream",
     "text": [
      "\"Character encoding and Unicode in Python: How to (╯°□°)╯︵ ┻━┻ with dignity\"\n",
      "\n",
      "(_Codificação de caracteres e o Unicode no Python: como (╯°□°)╯︵ ┻━┻ com dignidade_)\n",
      "\n"
     ]
    }
   ],
   "source": [
    "tofus = [\n",
    "    '\\N{PRESENTATION FORM FOR VERTICAL LEFT PARENTHESIS}',\n",
    "    '\\N{BOX DRAWINGS HEAVY HORIZONTAL}',\n",
    "    '\\N{BOX DRAWINGS LIGHT ARC UP AND LEFT}',\n",
    "    '\\N{BOX DRAWINGS HEAVY UP AND HORIZONTAL}',\n",
    "]\n",
    "\n",
    "def find_tofus():\n",
    "    with open('../vol1/cap04.adoc') as fp:\n",
    "        lines = fp.readlines()\n",
    "\n",
    "    found = set()\n",
    "    for line in lines:\n",
    "        for tofu in tofus:\n",
    "            if tofu in line and line not in found:\n",
    "                print(line)\n",
    "                found.add(line)\n",
    "\n",
    "find_tofus()\n",
    "    "
   ]
  },
  {
   "cell_type": "code",
   "execution_count": null,
   "id": "9083fc4f-711f-4f80-91c4-75602dcb7e68",
   "metadata": {},
   "outputs": [],
   "source": []
  }
 ],
 "metadata": {
  "kernelspec": {
   "display_name": "Python 3 (ipykernel)",
   "language": "python",
   "name": "python3"
  },
  "language_info": {
   "codemirror_mode": {
    "name": "ipython",
    "version": 3
   },
   "file_extension": ".py",
   "mimetype": "text/x-python",
   "name": "python",
   "nbconvert_exporter": "python",
   "pygments_lexer": "ipython3",
   "version": "3.14.0rc1"
  }
 },
 "nbformat": 4,
 "nbformat_minor": 5
}
