{
 "cells": [
  {
   "cell_type": "markdown",
   "id": "7336557a-43a5-48d7-96c9-668e8ae0fe88",
   "metadata": {},
   "source": [
    "# Estatísticas para guia de estilo\n",
    "\n",
    "O guia de estilo do **Python Fluente Segunda Edição** está aqui:<br>\n",
    "https://github.com/pythonfluente/pythonfluente2e/blob/main/guia-de-estilo.adoc\n",
    "\n",
    "Este notebook coleta algumas estatísticas para ajudar a decidir e verificar as regras do guia de estilo.\n"
   ]
  },
  {
   "cell_type": "markdown",
   "id": "d38e5166-6de7-422a-a05c-11fc06e74b63",
   "metadata": {},
   "source": [
    "## Pontuação em legendas\n",
    "\n",
    "Assumindo que toda legenda é uma linha física com um `.` na primeira posição."
   ]
  },
  {
   "cell_type": "code",
   "execution_count": 22,
   "id": "151b5275-b0b8-4ca4-b380-84471861ffca",
   "metadata": {},
   "outputs": [],
   "source": [
    "def pontos_em_legendas(*paths):\n",
    "    legendas = 0\n",
    "    pontos_finais = 0\n",
    "    for path in paths:\n",
    "        with open(path) as arq:\n",
    "            for n, linha in enumerate(arq, 1):\n",
    "                linha = linha.rstrip()\n",
    "                if linha == '.':\n",
    "                    print(path, n, repr(linha))\n",
    "                    continue\n",
    "                if linha.startswith('.') and linha[1] not in ' .':  # ignora itens de listas e ..\n",
    "                    legendas += 1\n",
    "                    if linha.endswith('.'):\n",
    "                        pontos_finais += 1\n",
    "                        print(linha)\n",
    "                    else:\n",
    "                        pass\n",
    "                        #print(linha)\n",
    "    return(pontos_finais, legendas)\n",
    "                "
   ]
  },
  {
   "cell_type": "code",
   "execution_count": 23,
   "id": "9659dd5d-de95-4aac-91ed-12ede27c8684",
   "metadata": {},
   "outputs": [
    {
     "name": "stdout",
     "output_type": "stream",
     "text": [
      ".Saída parcial do <<index0_ex>> processando o texto \"Zen of Python\"; cada linha mostra uma palavra e uma lista de ocorrências na forma de pares `(line_number, column_number)` (número da linha, número da coluna).\n",
      ".Diagrama de classes UML simplificado para `MutableSet` e suas superclasses em `collections.abc` (nomes em itálico são classes e métodos abstratos; métodos de operadores reversos foram omitidos por concisão).\n",
      ".Diagramas de memória simplificados mostrando uma `tuple` e um `array`, cada uma com três itens. As células em cinza representam o cabeçalho de cada objeto Python na memória. A `tuple` tem um array de ponteiros para seus itens. Cada item é um objeto Python separado, possivelmente contendo também referências aninhadas a outros objetos Python, como aquela lista de dois itens. Por outro lado, um `array` Python é um único objeto, contendo um array da linguagem C com três números de ponto flutuante no formato nativo da CPU.\n",
      ".Diagrama de classe UML simplificado para algumas classes de collections.abc (as superclasses estão à esquerda; as setas de herança apontam das subclasses para as superclasses; nomes em itálico indicam classes e métodos abstratos).\n",
      ".O produto cartesiano de 3 valores de cartas e 4 naipes é uma sequência de 12 itens.\n",
      ".O conteúdo em si da tupla é imutável, mas isso significa apenas que as referências mantidas pela tupla vão sempre apontar para os mesmos objetos. Entretanto, se um dos objetos referenciados for mutável—uma lista, por exemplo—seu conteúdo pode mudar.\n",
      ".Estados inicial e final do enigma da atribuição de tuplas (diagrama gerado pelo Online Python Tutor).\n",
      ".Criando, armazenando e carregando uma grande array de números de ponto flutuante.\n",
      ".Doze caracteres, seus pontos de código, e sua representação binária (em hexadecimal) em 7 codificações diferentes (asteriscos indicam que o caractere não pode ser representado naquela codificação).\n",
      ".O sanduíche de Unicode: a melhor prática para processamento de texto.\n",
      ".Executando _stdout_check.py_ no PowerShell.\n",
      ".Executanto _stdout_check.py_ no PowerShell, redirecionando a saída.\n",
      ".Explorando `unicodedata.name()` no console de Python.\n",
      ".Usando _cf.py_ para encontrar gatos sorridentes.\n",
      ".Terminal do macOS mostrando os caracteres numéricos e metadados correspondentes; `re_dig` significa que o caractere casa com a expressão regular `r'\\d'`.\n",
      ".Captura de tela da execução de ramanujan.py do <<ex_re_demo>>.\n",
      ".`show_count` de _messages.py_ sem dicas de tipo.\n",
      "._messages_test.py_ sem dicas de tipo.\n",
      ".Ilustrando a variância.\n",
      ".Tela de ajuda para `factorial`; o texto é criado a partir do atributo `+__doc__+` da função.\n",
      ".As variáveis `a` e `b` mantém referências para a mesma lista, não cópias da lista.\n",
      ".Se você imaginar variáveis como caixas, não é possível entender a atribuição em Python; por outro lado, imagine variáveis como etiquetas autocolantes e o <<ex_a_b_refs>> é facilmente explicável.\n",
      ".`charles` e `lewis` estão vinculados ao mesmo objeto; `alex` está vinculado a um objeto diferente de valor igual.\n",
      ".Referências cíclicas: `b` tem uma referência para `a` e então é concatenado a `a`; ainda assim, `deepcopy` consegue copiar `a`.\n",
      ".Uma tupla construída a partir de outra é, na verdade, exatamente a mesma tupla.\n",
      ".Strings literais podem criar objetos compartilhados.\n",
      ".Soma de vetores bi-dimensionais; `Vector(2, 4) + Vector(2, 1)` devolve `Vector(4, 5)`.\n",
      ".Uma classe simples para representar um vetor 2D.\n",
      ".Diagrama de classes UML com os tipos fundamentais de coleções. Métodos com nome em _itálico_ são abstratos, então precisam ser implementados pelas subclasses concretas, como `list` e `dict`. O restante dos métodos têm implementações concretas, então as subclasses podem herdá-los.\n"
     ]
    },
    {
     "data": {
      "text/plain": [
       "(29, 210)"
      ]
     },
     "execution_count": 23,
     "metadata": {},
     "output_type": "execute_result"
    }
   ],
   "source": [
    "from glob import glob\n",
    "pontos_em_legendas(*glob('../vol1/cap??.adoc'))"
   ]
  },
  {
   "cell_type": "code",
   "execution_count": null,
   "id": "d675e73d-0cab-4617-888d-d446575c521f",
   "metadata": {},
   "outputs": [],
   "source": []
  },
  {
   "cell_type": "code",
   "execution_count": null,
   "id": "eafe2c3d-4172-4907-8d62-2ed262e51f50",
   "metadata": {},
   "outputs": [],
   "source": []
  }
 ],
 "metadata": {
  "kernelspec": {
   "display_name": "Python 3 (ipykernel)",
   "language": "python",
   "name": "python3"
  },
  "language_info": {
   "codemirror_mode": {
    "name": "ipython",
    "version": 3
   },
   "file_extension": ".py",
   "mimetype": "text/x-python",
   "name": "python",
   "nbconvert_exporter": "python",
   "pygments_lexer": "ipython3",
   "version": "3.14.0rc1"
  }
 },
 "nbformat": 4,
 "nbformat_minor": 5
}
