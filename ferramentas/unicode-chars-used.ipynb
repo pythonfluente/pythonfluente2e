{
 "cells": [
  {
   "cell_type": "markdown",
   "id": "65717f00-e968-4ff6-a107-c6d13d338019",
   "metadata": {},
   "source": [
    "# Unicode chars used in Python Fluente 2ª edição"
   ]
  },
  {
   "cell_type": "code",
   "execution_count": 1,
   "id": "e2884a42-8e61-4db3-96c8-b1f064bc49e7",
   "metadata": {},
   "outputs": [],
   "source": [
    "from collections import Counter\n",
    "from unicodedata import name\n",
    "\n",
    "def non_ascii_counter(file_paths):\n",
    "    non_ascii = Counter()\n",
    "\n",
    "    for file_path in file_paths:\n",
    "        for line in open(file_path):\n",
    "            if line.isascii():\n",
    "                continue\n",
    "            for char in line:\n",
    "                if not char.isascii():\n",
    "                    non_ascii[char] += 1\n",
    "    return non_ascii"
   ]
  },
  {
   "cell_type": "code",
   "execution_count": 2,
   "id": "496107ff-d975-448d-92e3-a353b53aa012",
   "metadata": {},
   "outputs": [],
   "source": [
    "html = non_ascii_counter(['../online/index.html'])"
   ]
  },
  {
   "cell_type": "code",
   "execution_count": 3,
   "id": "60267f00-ea73-47d4-a8f6-ff1a5acc85fa",
   "metadata": {},
   "outputs": [],
   "source": [
    "from glob import glob\n",
    "\n",
    "adoc = non_ascii_counter(glob('../online/*.adoc'))"
   ]
  },
  {
   "cell_type": "code",
   "execution_count": 4,
   "id": "b69d39e1-4506-4536-84ff-feb3eb0d92df",
   "metadata": {},
   "outputs": [
    {
     "data": {
      "text/plain": [
       "0"
      ]
     },
     "execution_count": 4,
     "metadata": {},
     "output_type": "execute_result"
    }
   ],
   "source": [
    "len(adoc.keys() - html.keys())"
   ]
  },
  {
   "cell_type": "code",
   "execution_count": 5,
   "id": "e8bfba70-e3ce-41cb-91b1-3a37470d5241",
   "metadata": {},
   "outputs": [
    {
     "data": {
      "text/plain": [
       "19"
      ]
     },
     "execution_count": 5,
     "metadata": {},
     "output_type": "execute_result"
    }
   ],
   "source": [
    "len(html.keys() - adoc.keys())"
   ]
  },
  {
   "cell_type": "code",
   "execution_count": 6,
   "id": "826e2cc4-f381-4010-9561-39201871ae57",
   "metadata": {},
   "outputs": [
    {
     "name": "stdout",
     "output_type": "stream",
     "text": [
      "2500\t─\tBOX DRAWINGS LIGHT HORIZONTAL\n",
      "201a\t‚\tSINGLE LOW-9 QUOTATION MARK\n",
      "2020\t†\tDAGGER\n",
      "2712\t✒\tBLACK NIB\n",
      "02c6\tˆ\tMODIFIER LETTER CIRCUMFLEX ACCENT\n",
      "02dc\t˜\tSMALL TILDE\n",
      "1f449\t👉\tWHITE RIGHT POINTING BACKHAND INDEX\n",
      "00f6\tö\tLATIN SMALL LETTER O WITH DIAERESIS\n",
      "201e\t„\tDOUBLE LOW-9 QUOTATION MARK\n",
      "0153\tœ\tLATIN SMALL LIGATURE OE\n",
      "26a0\t⚠\tWARNING SIGN\n",
      "00b4\t´\tACUTE ACCENT\n",
      "203a\t›\tSINGLE RIGHT-POINTING ANGLE QUOTATION MARK\n",
      "2021\t‡\tDOUBLE DAGGER\n",
      "2030\t‰\tPER MILLE SIGN\n",
      "0192\tƒ\tLATIN SMALL LETTER F WITH HOOK\n",
      "2039\t‹\tSINGLE LEFT-POINTING ANGLE QUOTATION MARK\n",
      "fe0f\t️\tVARIATION SELECTOR-16\n",
      "00e6\tæ\tLATIN SMALL LETTER AE\n"
     ]
    }
   ],
   "source": [
    "for char in html.keys() - adoc.keys():\n",
    "    print(f'{ord(char):04x}\\t{char}\\t{name(char)}')"
   ]
  },
  {
   "cell_type": "code",
   "execution_count": null,
   "id": "f283c8ea-8508-4603-ba02-e378e525a145",
   "metadata": {},
   "outputs": [],
   "source": []
  }
 ],
 "metadata": {
  "kernelspec": {
   "display_name": "Python 3 (ipykernel)",
   "language": "python",
   "name": "python3"
  },
  "language_info": {
   "codemirror_mode": {
    "name": "ipython",
    "version": 3
   },
   "file_extension": ".py",
   "mimetype": "text/x-python",
   "name": "python",
   "nbconvert_exporter": "python",
   "pygments_lexer": "ipython3",
   "version": "3.14.0rc1"
  }
 },
 "nbformat": 4,
 "nbformat_minor": 5
}
