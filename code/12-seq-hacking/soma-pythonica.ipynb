{
 "cells": [
  {
   "cell_type": "markdown",
   "id": "6f7e6659-f6f5-4170-b62d-9de8b1829e8c",
   "metadata": {},
   "source": [
    "# Em busca da soma pythônica"
   ]
  },
  {
   "cell_type": "markdown",
   "id": "6d03afc1-37dd-466d-baf7-806e7d6470dc",
   "metadata": {},
   "source": [
    "Na [Python-list](https://fpy.li/12-11), há um fio de abril de 2003 com\n",
    "o título\n",
    "[_Pythonic Way to Sum n-th List Element?_](https://fpy.li/12-12)\n",
    "(A forma pythônica de somar o n-ésimo elemento em listas).\n",
    "\n",
    "Não há uma resposta única para a \"O que é pythônico?\", da mesma\n",
    "forma que não há uma resposta única para \"O que é belo?\".\n",
    "\n",
    "Mas talvez esta discussão dê alguma luz.\n",
    "\n",
    "O autor original do fio, Guy Middleton, pediu melhorias para a solução abaixo,\n",
    "afirmando não gostar de usar `lambda`.\n",
    "\n",
    "No caso específico, ele quer somar o segundo item de cada lista de uma série de listas."
   ]
  },
  {
   "cell_type": "code",
   "execution_count": 1,
   "id": "58006700-7d19-4352-83db-eeb39d52751d",
   "metadata": {},
   "outputs": [
    {
     "data": {
      "text/plain": [
       "42"
      ]
     },
     "execution_count": 1,
     "metadata": {},
     "output_type": "execute_result"
    }
   ],
   "source": [
    "from functools import reduce\n",
    "my_list = [[2, 3, 4], [22, 33, 44], [7, 6, 5]]\n",
    "reduce(lambda ac, n: ac+n, [sub[1] for sub in my_list])"
   ]
  },
  {
   "cell_type": "markdown",
   "id": "55d9e82e-8d55-4e83-bd63-6053aaac8382",
   "metadata": {},
   "source": [
    "Este código usa um excesso de elementos idiomáticos de Python: `lambda`, `reduce` e uma compreensão de lista.\n",
    "\n",
    "## Sobre o reduce\n",
    "\n",
    "Esta é assinatura de `reduce`:\n",
    "\n",
    "```python\n",
    "def reduce(function, iterable, /, initial=initial_missing): ...\n",
    "```\n",
    "\n",
    "`function` tem que ser uma função que aceita dois argumentos: um acumulador, e um item.\n",
    "O acumulador é inicializado com `initial`, ou com o primeiro item do `iterable`.\n",
    "A função será invocada uma vez para cada item do iterável,\n",
    "recebendo o acumulador e o próximo item. O resultado serve para atualizar o acumulador\n",
    "antes da próxima chamada.\n",
    "\n",
    "Uma versão simplificada de `reduce`, lidando só com sequências, já serve para ilustrar o algoritmo:"
   ]
  },
  {
   "cell_type": "code",
   "execution_count": 2,
   "id": "8a3c112c-f27a-44b2-ae54-7fc4f39b9536",
   "metadata": {},
   "outputs": [],
   "source": [
    "def reduzir(função, sequência):\n",
    "    acumulador = sequência[0]\n",
    "    for item in sequência[1:]:\n",
    "        acumulador = função(acumulador, item)\n",
    "    return acumulador"
   ]
  },
  {
   "cell_type": "markdown",
   "id": "ff011542-ce9f-40d7-9525-c00f58b657f9",
   "metadata": {},
   "source": [
    "Por exemplo, o fatorial de 5 pode ser calculado assim, sem usar `lambda`:"
   ]
  },
  {
   "cell_type": "code",
   "execution_count": 3,
   "id": "954018a5-d8a5-423d-98fc-67721c444c61",
   "metadata": {},
   "outputs": [
    {
     "data": {
      "text/plain": [
       "120"
      ]
     },
     "execution_count": 3,
     "metadata": {},
     "output_type": "execute_result"
    }
   ],
   "source": [
    "def mult(ac, n):\n",
    "    return ac * n\n",
    "    \n",
    "reduzir(mult, range(2, 6))"
   ]
  },
  {
   "cell_type": "markdown",
   "id": "bff4b269-02b9-481c-b9dd-6c139b40e342",
   "metadata": {},
   "source": [
    "(Implementar `reduzir` com suporte a iteráveis e o argumento `inicial` é um exercício legal.)"
   ]
  },
  {
   "cell_type": "markdown",
   "id": "7cb6aa3a-6956-4b2e-98ad-790bdc7a0f6f",
   "metadata": {},
   "source": [
    "## Voltando ao problema de somar o n-ésimo item\n",
    "\n",
    "A solução que Guy Middleton apresentou\n",
    "provavelmente ficaria em último lugar em um concurso de popularidade, pois\n",
    "ofende quem odeia `lambda` e também aqueles que desprezam as compreensões de\n",
    "lista.\n",
    "\n",
    "Nem o próprio Guy curtiu o código que ele apresentou:"
   ]
  },
  {
   "cell_type": "code",
   "execution_count": 4,
   "id": "e003233b-e688-4f01-a9d1-4ade0c1dcff9",
   "metadata": {},
   "outputs": [
    {
     "data": {
      "text/plain": [
       "42"
      ]
     },
     "execution_count": 4,
     "metadata": {},
     "output_type": "execute_result"
    }
   ],
   "source": [
    "from functools import reduce\n",
    "my_list = [[2, 3, 4], [22, 33, 44], [7, 6, 5]]\n",
    "reduce(lambda ac, n: ac+n, [sub[1] for sub in my_list])"
   ]
  },
  {
   "cell_type": "markdown",
   "id": "211954fd-1505-479b-9973-b415404f71ad",
   "metadata": {},
   "source": [
    "Se você vai usar `lambda`, provavelmente não há razão para usar uma compreensão\n",
    "de lista—exceto para filtragem, que não é o caso aqui.\n",
    "\n",
    "Aqui está uma solução minha que ofenderá todo mundo, exceto os amantes de `lambda`:"
   ]
  },
  {
   "cell_type": "code",
   "execution_count": 5,
   "id": "e638e00c-3b54-4a2d-b4bd-16ce003264ee",
   "metadata": {},
   "outputs": [
    {
     "data": {
      "text/plain": [
       "42"
      ]
     },
     "execution_count": 5,
     "metadata": {},
     "output_type": "execute_result"
    }
   ],
   "source": [
    "reduce(lambda ac, sub: ac + sub[1], my_list, 0)"
   ]
  },
  {
   "cell_type": "markdown",
   "id": "9bdfbaed-0e43-4922-9c76-01bc8a288cd3",
   "metadata": {
    "jp-MarkdownHeadingCollapsed": true
   },
   "source": [
    "Não participei da discussão original, e não usaria o trecho acima em código real,\n",
    "pois eu também não gosto muito de `lambda`.\n",
    "\n",
    "Apenas quis mostrar um exemplo sem uma compreensão de lista.\n",
    "\n",
    "A primeira resposta veio de Fernando Perez, criador do IPython,\n",
    "mostrando como a NumPy suporta arrays _n_-dimensionais e fatiamento _n_-dimensional:"
   ]
  },
  {
   "cell_type": "code",
   "execution_count": 6,
   "id": "e4fe9a09-e807-4ec0-ae9e-3e600e8e558b",
   "metadata": {
    "jp-MarkdownHeadingCollapsed": true
   },
   "outputs": [
    {
     "data": {
      "text/plain": [
       "np.int64(42)"
      ]
     },
     "execution_count": 6,
     "metadata": {},
     "output_type": "execute_result"
    }
   ],
   "source": [
    "import numpy as np\n",
    "my_array = np.array(my_list)\n",
    "np.sum(my_array[:, 1])"
   ]
  },
  {
   "cell_type": "markdown",
   "id": "e6ecf3f3-fd99-4aa4-8526-94ad25f9ef10",
   "metadata": {
    "jp-MarkdownHeadingCollapsed": true
   },
   "source": [
    "Acho a solução de Perez boa, mas Guy Middleton elegiou essa próxima solução,\n",
    "de Paul Rubin e Skip Montanaro:"
   ]
  },
  {
   "cell_type": "code",
   "execution_count": 7,
   "id": "e5432cf4-2923-4a51-9b3e-60926185aaaf",
   "metadata": {
    "jp-MarkdownHeadingCollapsed": true
   },
   "outputs": [
    {
     "data": {
      "text/plain": [
       "42"
      ]
     },
     "execution_count": 7,
     "metadata": {},
     "output_type": "execute_result"
    }
   ],
   "source": [
    "import operator\n",
    "reduce(operator.add, [sub[1] for sub in my_list], 0)"
   ]
  },
  {
   "cell_type": "markdown",
   "id": "30d8acba-2007-402f-a1c8-1cdfcdb42430",
   "metadata": {
    "jp-MarkdownHeadingCollapsed": true
   },
   "source": [
    "Então Evan Simpson perguntou, \"O que há de errado em fazer assim?\":"
   ]
  },
  {
   "cell_type": "code",
   "execution_count": 8,
   "id": "a5241876-2216-4e01-b3f0-b57e42ed099b",
   "metadata": {
    "jp-MarkdownHeadingCollapsed": true
   },
   "outputs": [
    {
     "data": {
      "text/plain": [
       "42"
      ]
     },
     "execution_count": 8,
     "metadata": {},
     "output_type": "execute_result"
    }
   ],
   "source": [
    "ac = 0\n",
    "for sub in my_list:\n",
    "    ac += sub[1]\n",
    "\n",
    "ac"
   ]
  },
  {
   "cell_type": "markdown",
   "id": "a4c16e31-2556-4cfa-9aab-eb9914f6eb91",
   "metadata": {
    "jp-MarkdownHeadingCollapsed": true
   },
   "source": [
    "Muitos concordaram que esse código era bastante pythônico.\n",
    "Alex Martelli chegou a escrever que Guido provavelmente \n",
    "resolveria o problema desta maneira.\n",
    "\n",
    "Gosto do código de Evan Simpson, mas também gosto do comentário\n",
    "de David Eppstein sobre ele:\n",
    "\n",
    "> Se você quer a soma de uma lista de itens, deveria escrever algo como\n",
    "\"a soma de uma lista de itens\", não como \"faça um loop sobre\n",
    "esses itens, mantenha uma variável `ac`, execute uma série de somas\".\n",
    "Por que temos linguagens de alto nível, senão para expressar nossas\n",
    "intenções em um nível mais alto e deixar a linguagem se preocupar\n",
    "com as operações de baixo nível necessárias para executá-las?"
   ]
  },
  {
   "cell_type": "markdown",
   "id": "49afe1be-c2cf-4d36-9130-e5dc36aeaa30",
   "metadata": {},
   "source": [
    "E daí Alex Martelli voltou para sugerir:\n",
    "\n",
    "> Fazemos somas com tanta frequência que eu não me importaria de forma\n",
    "alguma se Python a tornasse uma função embutida. Mas `reduce(operator.add,\n",
    "...)` não é uma boa forma de expressar isso, na minha opinião (e vejam\n",
    "que, como um antigo *APLer* e *FP-liker* eu _deveria_ gostar daquilo, mas não gosto).\n",
    "\n",
    "(Aqui o Martelli faz referência às linguagens funcionas\n",
    "[APL](https://pt.wikipedia.org/wiki/APL_(linguagem_de_programa%C3%A7%C3%A3o)) e\n",
    "[FP](https://pt.wikipedia.org/wiki/FP_(linguagem_de_programa%C3%A7%C3%A3o)))\n",
    "\n",
    "## A soma pythônica\n",
    "\n",
    "Martelli então sugere uma função `sum()`, que ele mesmo programa e submete para\n",
    "o Python.\n",
    "\n",
    "Ela se torna uma função embutida no Python 2.3, lançado apenas três\n",
    "meses após aquela conversa na lista.\n",
    "\n",
    "A sintaxe preferida de Martelli se torna a regra:"
   ]
  },
  {
   "cell_type": "code",
   "execution_count": 9,
   "id": "58c6a9f7-c901-432c-8252-dd67cee5bef2",
   "metadata": {
    "jp-MarkdownHeadingCollapsed": true
   },
   "outputs": [
    {
     "data": {
      "text/plain": [
       "42"
      ]
     },
     "execution_count": 9,
     "metadata": {},
     "output_type": "execute_result"
    }
   ],
   "source": [
    "sum([sub[1] for sub in my_list])"
   ]
  },
  {
   "cell_type": "markdown",
   "id": "bd0b62f0-440d-4169-a0a1-4b22ad15e9c7",
   "metadata": {
    "jp-MarkdownHeadingCollapsed": true
   },
   "source": [
    "No final do ano seguinte (novembro de 2004), Python 2.4 foi lançado e incluía\n",
    "expressões geradoras, fornecendo o que agora é, na minha opinião, a resposta\n",
    "mais pythônica para a pergunta original de Guy Middleton:"
   ]
  },
  {
   "cell_type": "code",
   "execution_count": 10,
   "id": "7d734682-ce4c-4b88-80e4-f8689aa16347",
   "metadata": {
    "jp-MarkdownHeadingCollapsed": true
   },
   "outputs": [
    {
     "data": {
      "text/plain": [
       "42"
      ]
     },
     "execution_count": 10,
     "metadata": {},
     "output_type": "execute_result"
    }
   ],
   "source": [
    "sum(sub[1] for sub in my_list)"
   ]
  },
  {
   "cell_type": "markdown",
   "id": "970934c6-22f8-430e-960b-cd7e8f6b49ab",
   "metadata": {
    "jp-MarkdownHeadingCollapsed": true
   },
   "source": [
    "Isso não só é mais legível que `reduce`,\n",
    "também trata o problema da sequência\n",
    "vazia, porque `sum([])` é `0`.\n",
    "\n",
    "Na mesma conversa, Alex Martelli sugeriu que a função embutida `reduce` de\n",
    "Python 2 trazia mais problemas que soluções, porque encorajava idiomas de\n",
    "programação difíceis de explicar. Ele foi bastante convincente: a função foi\n",
    "rebaixada para o módulo `functools` no Python 3.\n",
    "\n",
    "Ainda assim, `functools.reduce` tem seus usos.\n",
    "Mas quando pensar em `reduce`,\n",
    "veja se `sum`, `all` e `any` resolvem seu problema\n",
    "mais facilmente.\n",
    "\n",
    "----\n",
    "\n",
    "Este notebook foi adaptado da seção **Ponto de Vista** do\n",
    "[Capítulo 12](https://pythonfluente.com/2/#_para_saber_mais_5)\n",
    "do **Python Fluente, 2ª ed.**"
   ]
  },
  {
   "cell_type": "markdown",
   "id": "16c61e61-b827-4bfe-afb3-b11750e6dd8a",
   "metadata": {},
   "source": []
  }
 ],
 "metadata": {
  "kernelspec": {
   "display_name": "Python 3 (ipykernel)",
   "language": "python",
   "name": "python3"
  },
  "language_info": {
   "codemirror_mode": {
    "name": "ipython",
    "version": 3
   },
   "file_extension": ".py",
   "mimetype": "text/x-python",
   "name": "python",
   "nbconvert_exporter": "python",
   "pygments_lexer": "ipython3",
   "version": "3.14.0rc1"
  }
 },
 "nbformat": 4,
 "nbformat_minor": 5
}
